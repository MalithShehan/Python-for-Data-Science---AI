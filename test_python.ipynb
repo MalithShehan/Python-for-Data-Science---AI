{
 "cells": [
  {
   "cell_type": "code",
   "execution_count": null,
   "metadata": {},
   "outputs": [
    {
     "name": "stdout",
     "output_type": "stream",
     "text": [
      "Hello World\n"
     ]
    }
   ],
   "source": [
    "print(\"Hello World!\")"
   ]
  },
  {
   "cell_type": "code",
   "execution_count": null,
   "metadata": {},
   "outputs": [
    {
     "name": "stdout",
     "output_type": "stream",
     "text": [
      "10\n",
      "<class 'int'>\n",
      "10 is of type <class 'int'>\n"
     ]
    }
   ],
   "source": [
    "a = 10\n",
    "print(a)\n",
    "print(type (a))\n",
    "print(a, \"is of type\", type(a))"
   ]
  },
  {
   "cell_type": "code",
   "execution_count": null,
   "metadata": {},
   "outputs": [
    {
     "name": "stdout",
     "output_type": "stream",
     "text": [
      "The type of variable having value 10 is <class 'int'>\n"
     ]
    }
   ],
   "source": [
    "a = 10\n",
    "print(\"The type of variable having value\", a, \"is\", type(a))"
   ]
  },
  {
   "cell_type": "code",
   "execution_count": null,
   "metadata": {},
   "outputs": [
    {
     "name": "stdout",
     "output_type": "stream",
     "text": [
      "25000.0 is of type <class 'float'>\n"
     ]
    }
   ],
   "source": [
    "a = 2.5e4\n",
    "print(a, \"is of type\", type(a))"
   ]
  },
  {
   "cell_type": "code",
   "execution_count": null,
   "metadata": {},
   "outputs": [
    {
     "name": "stdout",
     "output_type": "stream",
     "text": [
      "5.0 is of type <class 'float'>\n"
     ]
    }
   ],
   "source": [
    "a = 5\n",
    "b = float(a)\n",
    "print(b, \"is of type\", type(b))"
   ]
  },
  {
   "cell_type": "code",
   "execution_count": null,
   "metadata": {},
   "outputs": [
    {
     "name": "stdout",
     "output_type": "stream",
     "text": [
      "7 is of type <class 'int'>\n"
     ]
    }
   ],
   "source": [
    "c = 7.0\n",
    "d = int(c)\n",
    "print(d, \"is of type\", type(d))"
   ]
  },
  {
   "cell_type": "code",
   "execution_count": null,
   "metadata": {},
   "outputs": [
    {
     "name": "stdout",
     "output_type": "stream",
     "text": [
      "[10, 5, 4, 5, 70] is of type <class 'list'>\n"
     ]
    }
   ],
   "source": [
    "my_list = [10, 5, 4, 5 ,70]\n",
    "print(my_list, \"is of type\", type(my_list))"
   ]
  },
  {
   "cell_type": "code",
   "execution_count": null,
   "metadata": {},
   "outputs": [
    {
     "name": "stdout",
     "output_type": "stream",
     "text": [
      "70\n"
     ]
    }
   ],
   "source": [
    "my_list = [10, 5, 4, 2 ,70]\n",
    "print(my_list[4])"
   ]
  },
  {
   "cell_type": "code",
   "execution_count": null,
   "metadata": {},
   "outputs": [
    {
     "name": "stdout",
     "output_type": "stream",
     "text": [
      "Dog\n",
      "Fly\n"
     ]
    }
   ],
   "source": [
    "my_list = [10, \"Dog\", 4, \"Cat\" ,70]\n",
    "print(my_list[1])\n",
    "\n",
    "my_list[1] = \"Fly\"\n",
    "print(my_list[1])"
   ]
  },
  {
   "cell_type": "code",
   "execution_count": null,
   "metadata": {},
   "outputs": [
    {
     "name": "stdout",
     "output_type": "stream",
     "text": [
      "5\n",
      "70\n"
     ]
    }
   ],
   "source": [
    "my_list = [10, \"Dog\", 4, \"Cat\" ,70]\n",
    "print(len(my_list))\n",
    "print(my_list[-1])\n"
   ]
  },
  {
   "cell_type": "code",
   "execution_count": null,
   "metadata": {},
   "outputs": [
    {
     "name": "stdout",
     "output_type": "stream",
     "text": [
      "['Dog', 4, 'Cat', 9] is of type <class 'list'>\n",
      "[10, 'Dog', 4, 'Cat'] is of type <class 'list'>\n"
     ]
    }
   ],
   "source": [
    "my_list = [10, \"Dog\", 4, \"Cat\" ,9]\n",
    "print(my_list[1:5], \"is of type\", type(my_list[1:5]))\n",
    "print(my_list[:4], \"is of type\", type(my_list[:4]))"
   ]
  },
  {
   "cell_type": "code",
   "execution_count": null,
   "metadata": {},
   "outputs": [
    {
     "name": "stdout",
     "output_type": "stream",
     "text": [
      "[10, 'Parrot', 5, 'Cat', 9]\n"
     ]
    }
   ],
   "source": [
    "my_list = [10, \"Dog\", 4, \"Cat\" ,9]\n",
    "my_list[1:3] = [\"Parrot\", 5]\n",
    "print(my_list)"
   ]
  },
  {
   "cell_type": "code",
   "execution_count": null,
   "metadata": {},
   "outputs": [
    {
     "name": "stdout",
     "output_type": "stream",
     "text": [
      "[10, 'Dog', 'Parrot', 4, 'Cat', 9] 6\n"
     ]
    }
   ],
   "source": [
    "my_list = [10, \"Dog\", 4, \"Cat\" ,9]\n",
    "my_list.insert(2, \"Parrot\")\n",
    "print(my_list, len(my_list))"
   ]
  },
  {
   "cell_type": "code",
   "execution_count": null,
   "metadata": {},
   "outputs": [
    {
     "name": "stdout",
     "output_type": "stream",
     "text": [
      "[10, 'Dog', 4, 'Cat', 9, 'Dilshan', 'Nimal', 'Kamal'] 8\n"
     ]
    }
   ],
   "source": [
    "my_list = [10, \"Dog\", 4, \"Cat\" ,9]\n",
    "my_list_1 = [\"Dilshan\", \"Nimal\", \"Kamal\"]\n",
    "my_list.extend(my_list_1)\n",
    "print(my_list, len(my_list))"
   ]
  },
  {
   "cell_type": "code",
   "execution_count": null,
   "metadata": {},
   "outputs": [
    {
     "name": "stdout",
     "output_type": "stream",
     "text": [
      "[10, 'Dog', 'Cat', 9] 4\n"
     ]
    }
   ],
   "source": [
    "my_list = [10, \"Dog\", 4, \"Cat\" ,9]\n",
    "del my_list[2]\n",
    "print(my_list, len(my_list))"
   ]
  },
  {
   "cell_type": "code",
   "execution_count": null,
   "metadata": {},
   "outputs": [
    {
     "name": "stdout",
     "output_type": "stream",
     "text": [
      "['Banana', 'Grapes', 'Pineapple', 'apple']\n"
     ]
    }
   ],
   "source": [
    "my_list = [\"Grapes\", \"apple\", \"Banana\", \"Pineapple\"]\n",
    "my_list.sort()\n",
    "print(my_list)"
   ]
  },
  {
   "cell_type": "code",
   "execution_count": null,
   "metadata": {},
   "outputs": [
    {
     "name": "stdout",
     "output_type": "stream",
     "text": [
      "Non-Authoritative Information\n"
     ]
    }
   ],
   "source": [
    "# Switch case statement\n",
    "response_code = 203\n",
    "\n",
    "match response_code:\n",
    "    case 200:\n",
    "        print(\"OK\")\n",
    "    case 201:\n",
    "        print(\"Created\")\n",
    "    case 202:\n",
    "        print(\"Accepted\")\n",
    "    case 203:\n",
    "        print(\"Non-Authoritative Information\")"
   ]
  },
  {
   "cell_type": "code",
   "execution_count": null,
   "metadata": {},
   "outputs": [
    {
     "name": "stdout",
     "output_type": "stream",
     "text": [
      "14\n"
     ]
    }
   ],
   "source": [
    "# Switch case statement \n",
    "# Maching by the length of an Iterable\n",
    "\n",
    "number = [4, 3, 7]\n",
    "\n",
    "match number:      \n",
    "    case [x, y]:     \n",
    "        print(x * y)            \n",
    "    case [x, y, z]: \n",
    "        print(x + y + z)\n",
    "    case _:\n",
    "        print(\"The list does not contain two or three numbers\")"
   ]
  },
  {
   "cell_type": "code",
   "execution_count": null,
   "metadata": {},
   "outputs": [
    {
     "name": "stdout",
     "output_type": "stream",
     "text": [
      "empty list\n"
     ]
    }
   ],
   "source": [
    "number = [4, 3, 7, 8]\n",
    "\n",
    "match number:\n",
    "    case []:\n",
    "        print(\"empty list\") \n",
    "    case [x]:\n",
    "        print(\"Has one element\")\n",
    "    case [x, y]:\n",
    "        print(\"Has two elements\")\n",
    "    case [*rest]:\n",
    "        print(\"More elements\")"
   ]
  },
  {
   "cell_type": "code",
   "execution_count": null,
   "metadata": {},
   "outputs": [
    {
     "name": "stdout",
     "output_type": "stream",
     "text": [
      "Apple\n",
      "Banana\n",
      "Pineapple\n",
      "Grapes\n"
     ]
    }
   ],
   "source": [
    "# For loop\n",
    "\n",
    "fruits = [\"Apple\", \"Banana\", \"Pineapple\", \"Grapes\"]\n",
    "\n",
    "for fruit in fruits:\n",
    "    print(fruit)"
   ]
  },
  {
   "cell_type": "code",
   "execution_count": 54,
   "metadata": {},
   "outputs": [
    {
     "name": "stdout",
     "output_type": "stream",
     "text": [
      "[16, 4, 36, 64, 25]\n"
     ]
    }
   ],
   "source": [
    "number = [4, 2, 6, 8, 5]\n",
    "square = []\n",
    "for num in number:\n",
    "    square.append(num * num)\n",
    "print(square)\n",
    "    "
   ]
  },
  {
   "cell_type": "code",
   "execution_count": null,
   "metadata": {},
   "outputs": [
    {
     "name": "stdout",
     "output_type": "stream",
     "text": [
      "[1, 4]\n"
     ]
    }
   ],
   "source": [
    "# Text input from the user it will print the square of the numbers from 1 to the user input number\n",
    "user_input = int(input(\"Enter a number: \"))\n",
    "square = []\n",
    "for num in range(1, user_input + 1):\n",
    "    square.append(num * num)\n",
    "print(square)"
   ]
  },
  {
   "cell_type": "code",
   "execution_count": null,
   "metadata": {},
   "outputs": [],
   "source": []
  },
  {
   "cell_type": "code",
   "execution_count": null,
   "metadata": {},
   "outputs": [
    {
     "name": "stdout",
     "output_type": "stream",
     "text": [
      "[16, 4, 36, 64, 25]\n"
     ]
    }
   ],
   "source": [
    "# List comprehension\n",
    "number = [4, 2, 6, 8, 5]\n",
    "result = [num * num for num in number]\n",
    "print(result)"
   ]
  },
  {
   "cell_type": "code",
   "execution_count": null,
   "metadata": {},
   "outputs": [
    {
     "name": "stdout",
     "output_type": "stream",
     "text": [
      "[8, 12, 5, 4, 0]\n"
     ]
    }
   ],
   "source": [
    "# print the square of the numbers from 1 to the user input number\n",
    "numbers = [8, 12, -1, 5, 4, 0, -3]\n",
    "positive = [num for num in numbers if num >= 0]\n",
    "print(positive)"
   ]
  },
  {
   "cell_type": "code",
   "execution_count": null,
   "metadata": {},
   "outputs": [
    {
     "name": "stdout",
     "output_type": "stream",
     "text": [
      "0 End of the loop\n",
      "1 End of the loop\n",
      "2 End of the loop\n",
      "3 End of the loop\n",
      "4 End of the loop\n"
     ]
    }
   ],
   "source": [
    "# While loop\n",
    "m = 5\n",
    "i = 0\n",
    "\n",
    "while i < m:\n",
    "    print(i, end=\" \")\n",
    "    i += 1\n",
    "    print(\"End of the loop\")"
   ]
  },
  {
   "cell_type": "code",
   "execution_count": null,
   "metadata": {},
   "outputs": [],
   "source": [
    "num = int(input(\"Enter a number: \"))\n",
    "square_num = []\n",
    "count = 1\n",
    "while num > 15:\n",
    "    square_num.append(count * count)\n",
    "    count += 1\n",
    "    num -= 1\n",
    "    print(square_num)\n",
    "    "
   ]
  },
  {
   "cell_type": "code",
   "execution_count": null,
   "metadata": {},
   "outputs": [
    {
     "name": "stdout",
     "output_type": "stream",
     "text": [
      "Square of the number is 4\n",
      "Square of the number is 9\n",
      "Square of the number is 16\n",
      "Square of the number is 0\n",
      "Square of the number is 0\n",
      "Square of the number is 4\n",
      "Square of the number is 441\n",
      "Square of the number is 9\n"
     ]
    }
   ],
   "source": [
    "while True:\n",
    "    num = int(input(\"Enter a number: \"))\n",
    "    if num < 0:\n",
    "        break\n",
    "    print(\"Square of the number is\", num * num)"
   ]
  },
  {
   "cell_type": "code",
   "execution_count": null,
   "metadata": {},
   "outputs": [
    {
     "name": "stdout",
     "output_type": "stream",
     "text": [
      "Name : Dilshan\n",
      "Age : 25\n"
     ]
    }
   ],
   "source": [
    "# Function and functinal programming\n",
    "personal = {\n",
    "    \"Name\": \"Dilshan\",\n",
    "    \"Age\": 25\n",
    "}\n",
    "\n",
    "for key in personal:\n",
    "    print(key, \":\", personal[key])\n"
   ]
  },
  {
   "cell_type": "code",
   "execution_count": null,
   "metadata": {},
   "outputs": [
    {
     "data": {
      "text/plain": [
       "30"
      ]
     },
     "execution_count": 17,
     "metadata": {},
     "output_type": "execute_result"
    }
   ],
   "source": [
    "# function \n",
    "def calculate_square(width, height):\n",
    "    return width * height\n",
    "calculate_square(5, 6)"
   ]
  },
  {
   "cell_type": "code",
   "execution_count": null,
   "metadata": {},
   "outputs": [
    {
     "name": "stdout",
     "output_type": "stream",
     "text": [
      "22\n"
     ]
    }
   ],
   "source": [
    "def calculate_square(width, height):\n",
    "    return (width + height) * 2\n",
    "calculate_square(5, 6)"
   ]
  },
  {
   "cell_type": "code",
   "execution_count": null,
   "metadata": {},
   "outputs": [
    {
     "name": "stdout",
     "output_type": "stream",
     "text": [
      "78.5\n"
     ]
    }
   ],
   "source": [
    "def calculate_circle_area(radius):\n",
    "    return 3.14 * radius * radius\n",
    "calculate_circle_area(5)"
   ]
  },
  {
   "cell_type": "code",
   "execution_count": null,
   "metadata": {},
   "outputs": [
    {
     "data": {
      "text/plain": [
       "10"
      ]
     },
     "execution_count": 31,
     "metadata": {},
     "output_type": "execute_result"
    }
   ],
   "source": [
    "# Default arguments\n",
    "def add_arguments(a, b=5):\n",
    "    return a + b\n",
    "# add_arguments(5, 7) # 12 default value is not used\n",
    "add_arguments(5) # 10 default value is used "
   ]
  },
  {
   "cell_type": "code",
   "execution_count": 1,
   "metadata": {},
   "outputs": [
    {
     "name": "stdout",
     "output_type": "stream",
     "text": [
      "20\n"
     ]
    }
   ],
   "source": [
    "# Positional arguments\n",
    "def add_arguments(a, b, c):\n",
    "    return a + b + c\n",
    "print(add_arguments(5, 7, 8))"
   ]
  },
  {
   "cell_type": "code",
   "execution_count": 2,
   "metadata": {},
   "outputs": [
    {
     "name": "stdout",
     "output_type": "stream",
     "text": [
      "20\n"
     ]
    }
   ],
   "source": [
    "# Keyword arguments\n",
    "def add_arguments(a, b, c):\n",
    "    return a + b + c\n",
    "print(add_arguments(c=8, a=5, b=7))"
   ]
  },
  {
   "cell_type": "code",
   "execution_count": null,
   "metadata": {},
   "outputs": [
    {
     "name": "stdout",
     "output_type": "stream",
     "text": [
      "540.0\n"
     ]
    }
   ],
   "source": [
    "def calculate_cost(price, qntity, tax_rate, discount):\n",
    "    return price * qntity * tax_rate - discount\n",
    "print(calculate_cost(price=100, qntity=5, tax_rate=1.1, discount=10))"
   ]
  },
  {
   "cell_type": "code",
   "execution_count": null,
   "metadata": {},
   "outputs": [
    {
     "name": "stdout",
     "output_type": "stream",
     "text": [
      "I love computer programming,\n",
      "I have more experiance about it,\n",
      "I live in Galle.\n"
     ]
    }
   ],
   "source": [
    "# Python String\n",
    "my_str = '''I love computer programming,\n",
    "        I have more experiance about it,\n",
    "        I live in Galle.'''\n",
    "print(my_str)"
   ]
  },
  {
   "cell_type": "code",
   "execution_count": 2,
   "metadata": {},
   "outputs": [
    {
     "name": "stdout",
     "output_type": "stream",
     "text": [
      "['H', 'e', 'l', 'l', 'o', ' ', 'W', 'o', 'r', 'l', 'd']\n",
      "11\n",
      "o\n",
      "llo Wo\n",
      "HELLO WORLD\n",
      "hello world\n"
     ]
    }
   ],
   "source": [
    "my_str = \"Hello World\"\n",
    "my_list = list(my_str)\n",
    "print(my_list)\n",
    "print(len(my_str))\n",
    "print(my_str[4])\n",
    "print(my_str[2:8])\n",
    "print(my_str.upper())\n",
    "print(my_str.lower())"
   ]
  },
  {
   "cell_type": "code",
   "execution_count": 38,
   "metadata": {},
   "outputs": [
    {
     "name": "stdout",
     "output_type": "stream",
     "text": [
      "  Hello world     \n",
      "  Hello world     \n"
     ]
    }
   ],
   "source": [
    "my_str = \"  Hello world     \"\n",
    "print(my_str)\n",
    "my_str.strip()\n",
    "print(my_str)"
   ]
  },
  {
   "cell_type": "code",
   "execution_count": 1,
   "metadata": {},
   "outputs": [],
   "source": [
    "# Python functional declaration\n",
    "def greet(name):\n",
    "    return f\"Hello, {name}!\"\n"
   ]
  },
  {
   "cell_type": "code",
   "execution_count": null,
   "metadata": {},
   "outputs": [],
   "source": [
    "# Arbitrary Argument\n",
    "def arbitrary_positinal_arguments(*args):\n",
    "    print(args, type(args))\n",
    "arbitrary_positinal_arguments(2, 4, 6, 8)\n"
   ]
  },
  {
   "cell_type": "code",
   "execution_count": null,
   "metadata": {},
   "outputs": [
    {
     "name": "stdout",
     "output_type": "stream",
     "text": [
      "name : Malith\n",
      "age : 21\n",
      "country : Sri Lanka\n"
     ]
    }
   ],
   "source": [
    "# Arbitrary Keyword Argument (**kwargs)\n",
    "def arbitrary_keyword_args(**kwargs):\n",
    "    for ket, value in kwargs.items():\n",
    "        print(ket, \":\", value)\n",
    "arbitrary_keyword_args(name=\"Malith\", age=21, country=\"Sri Lanka\")"
   ]
  },
  {
   "cell_type": "code",
   "execution_count": null,
   "metadata": {},
   "outputs": [
    {
     "name": "stdout",
     "output_type": "stream",
     "text": [
      "Student Name: Malith\n",
      "Max of grades: 90\n",
      "Lowest grade: 70\n",
      "Average grade: 30.0\n",
      "Student Name: Kamal\n",
      "No grades available\n"
     ]
    }
   ],
   "source": [
    "def summaries_grades(student_name, **grades):\n",
    "    print(\"Student Name:\", student_name)\n",
    "    \n",
    "    if grades:\n",
    "        height = max(grades.values())\n",
    "        lowest = min(grades.values())\n",
    "        average = height / len(grades)\n",
    "\n",
    "        print(\"Max of grades:\", height)\n",
    "        print(\"Lowest grade:\", lowest)\n",
    "        print(\"Average grade:\", average)\n",
    "    else:\n",
    "        print(\"No grades available\")\n",
    "\n",
    "summaries_grades(\"Malith\", Math=90, Science=85, English=70)\n",
    "summaries_grades(\"Malith\")"
   ]
  },
  {
   "cell_type": "code",
   "execution_count": 22,
   "metadata": {},
   "outputs": [
    {
     "name": "stdout",
     "output_type": "stream",
     "text": [
      "Employee Name: Malith Shehan\n",
      "age: 21\n",
      "department: Senior Software Enginear\n",
      "location: New York\n",
      "{'name': 'Malith Shehan', 'age': 21, 'department': 'Senior Software Enginear', 'location': 'New York'}\n"
     ]
    }
   ],
   "source": [
    "def employee_info(name, **kwargs):\n",
    "    print(\"Employee Name:\", name)\n",
    "    for key, value in kwargs.items():\n",
    "        print(f\"{key}: {value}\")\n",
    "    \n",
    "    employee_details = {\"name\": name}\n",
    "    employee_details.update(kwargs)\n",
    "    return employee_details\n",
    "\n",
    "# Example usage\n",
    "info = employee_info(\"Malith Shehan\", age=21, department=\"Senior Software Enginear\", location=\"New York\")\n",
    "print(info)"
   ]
  },
  {
   "cell_type": "code",
   "execution_count": 27,
   "metadata": {},
   "outputs": [
    {
     "name": "stdout",
     "output_type": "stream",
     "text": [
      "7\n",
      "False\n"
     ]
    }
   ],
   "source": [
    "# Build in functions\n",
    "print(abs(-7))\n",
    "print(all([True, False, True]))"
   ]
  },
  {
   "cell_type": "code",
   "execution_count": 29,
   "metadata": {},
   "outputs": [
    {
     "name": "stdout",
     "output_type": "stream",
     "text": [
      "<map object at 0x00000147948CEAA0> [4, 16, 36, 64, 100]\n"
     ]
    }
   ],
   "source": [
    "# Built-in functions map()\n",
    "def square(num):\n",
    "    return num * num\n",
    "numbers = [2, 4, 6, 8, 10]\n",
    "result = map(square, numbers)\n",
    "print(result, list(result))"
   ]
  },
  {
   "cell_type": "code",
   "execution_count": null,
   "metadata": {},
   "outputs": [
    {
     "name": "stdout",
     "output_type": "stream",
     "text": [
      "[68.0, 86.0, 77.0, 104.0, 59.0]\n"
     ]
    }
   ],
   "source": [
    "# Fahrenheit = celsius * 9/5 + 32\n",
    "temperatures = [20, 30, 25, 40, 15]\n",
    "result = map(lambda x: (9/5) * x + 32, temperatures)\n",
    "print(list(result))"
   ]
  },
  {
   "cell_type": "code",
   "execution_count": 40,
   "metadata": {},
   "outputs": [
    {
     "name": "stdout",
     "output_type": "stream",
     "text": [
      "[2, 6, 8]\n"
     ]
    }
   ],
   "source": [
    "# Built in function filter()\n",
    "numbers = [2, 5, 6, 7, 8, 11]\n",
    "result = filter(lambda x: x % 2 == 0, numbers)  # Even numbers\n",
    "print(list(result))"
   ]
  },
  {
   "cell_type": "code",
   "execution_count": 42,
   "metadata": {},
   "outputs": [
    {
     "name": "stdout",
     "output_type": "stream",
     "text": [
      "7\n"
     ]
    }
   ],
   "source": [
    "# Python Lambda function\n",
    "square = lambda x,y: x + y\n",
    "print(square(3, 4))"
   ]
  },
  {
   "cell_type": "code",
   "execution_count": null,
   "metadata": {},
   "outputs": [
    {
     "name": "stdout",
     "output_type": "stream",
     "text": [
      "16\n"
     ]
    }
   ],
   "source": [
    "# Write a lamda function to return the power of two of a given number\n",
    "power = lambda x: x ** 2\n",
    "print(power(4))"
   ]
  },
  {
   "cell_type": "code",
   "execution_count": 46,
   "metadata": {},
   "outputs": [
    {
     "name": "stdout",
     "output_type": "stream",
     "text": [
      "[('Malith', 25), ('Tharin', 20)]\n"
     ]
    }
   ],
   "source": [
    "# Write a python programme that\n",
    "# 1. take list of tuples where each tuple contains a name(String) and age (integer).\n",
    "# 2. use a lambda funtion to filter out the tuples where the age is less than 18.\n",
    "# 3. print the filtered list.\n",
    "people = [(\"Malith\", 25), (\"Malshan\", 15), (\"Tharin\", 20)]\n",
    "result = filter(lambda x: x[1] >= 18, people)\n",
    "print(list(result))"
   ]
  },
  {
   "cell_type": "code",
   "execution_count": 51,
   "metadata": {},
   "outputs": [
    {
     "name": "stdout",
     "output_type": "stream",
     "text": [
      "5\n"
     ]
    }
   ],
   "source": [
    "# Let's use that funtion definition to make a function that always doubles the number you send in\n",
    "result = lambda x,y : max(x, y)\n",
    "print(result(4, 5))"
   ]
  },
  {
   "cell_type": "code",
   "execution_count": 60,
   "metadata": {},
   "outputs": [
    {
     "name": "stdout",
     "output_type": "stream",
     "text": [
      "5040\n"
     ]
    }
   ],
   "source": [
    "# Recursive Functions \n",
    "# 7! = 7 * 6 * 5 * 4 * 3 * 2 * 1= 5040\n",
    "def factorial(n):\n",
    "    if n == 0:\n",
    "        return 1\n",
    "    for i in range(1, n):\n",
    "        n *= i\n",
    "    return n\n",
    "print(factorial(7))"
   ]
  },
  {
   "cell_type": "code",
   "execution_count": 22,
   "metadata": {},
   "outputs": [
    {
     "name": "stdout",
     "output_type": "stream",
     "text": [
      "The factorial of 1558 is 2424858401169875856987549316530261243529336396354700842715749979460646110058233651782392648030625575890603295838549136086203631494904372698578181999057212055535785846413969420066573092861481554378165635499319577948946469878800693106187103360224139995239288292467274991657581799887960732860730465294056429604010675825650845592134295845654185424392132561718318353026455262912039002664120813132000602020151818744862796534620281615341820385425346251471878908201301227337883132211649086124629581129201309548248991126780745470297556208250525153383428851713805456555419758707284753260768805845944423382917543868035509410367649517977378961396490420583560768554085728596839435423979501005167390976056828737759722931049053051870481354220566751757226315251920734049093559363656820097662644345104685665152444697669009659982518091310671058073959926600845011866653850725006741331610135998770449096045426206531544154144601729043078225608136613193686346346764203375001081246967670378990121777385901921245133042374777487279240176076181929206652760242551593468206588418766183401939736514661022447416367789422605988204789848476655904174023752533626768590363300938231129606313365312387913130971900390208938471907315110717317435321123464794906710193916413838207147074458529525935478113361841325520841044346267628381902449941524896332350384902526765982148700924154884023605222691782597459599121027544229955922681404443327840648118042191399221650956164672857148227101451532445295161873221075926687151309815858723796054292521542311108190618276056103071140889723197707702368244847779594197140241112042128900654662720100758519336991189420021569389659862373674109453168227154296233208845394442627758282640964050502230911632608683569869755423400072413157317525410032842653580093887735517690412593258359388487289802270353135756659547954667344672901471048389223259683469006995762263469036620522300662493285722212048473141061111827211648276284983691538501299996459350066613212712170474963890532178735800245974574640904674554123815017979113627519922145830691096868313633320304359164703825903963661604335411773033078697699311892617463175229334854531701631075383899708905233041291527887059381689504636267968336033244928031019352467588242769652345533099117594059102256248189810284600657855707971881794779733938869280438373216606816889288287015049782284899585369920877745590840887712363661997881545433844629800189205229597440143179700162824702134957418586285920953284900382720017357876988767296282790084172114532622647998154080918863914038958583660595208167281479883677535909771428614756103440615905873310606657147769597200148222567970379939256596381142850272187439045199365546037482887333248526026065549397730475314476322168067523034600032867511743419691437003992038152628324659432676263448764134014429405489180634364519282138519962363193701386950109467042340571843977537752976341094127822030600936793871334872293490903117072170466054983434825167266916722980296391441044563178977701723309785609111259614474247364528550386532388327264689711775604664427340228901835597557029992960492192464058200400988909295153551200837397817601282679220611104173652358509007521101053095620748168997861050130023817703319787079095235833374426177514286578246903083415169109359323812741314724620593271262917265094024216337214863533448529254632599541703878619604512594846124252613960262726215219134672211844311020666195270036284140614857902974771290503656870984782590335117218368984797972576852801418834170795097602013208317371156612874344638041764532057542786831351076365498540443813006372421380736034740771076764178132559828434447544678633583005046265334346831012385703067191550416222980088761154519553974935287498676582754658553261232252765802371799256016444945115393409561160793126126735836975302341046431089640850574341354122545220831810806852068691732327187184240511538962440151159519314143893886850233861037997459199145386272154940965985357257552760909210073432064000000000000000000000000000000000000000000000000000000000000000000000000000000000000000000000000000000000000000000000000000000000000000000000000000000000000000000000000000000000000000000000000000000000000000000000000000000000000000000000000000000000000000000000000000000000000000000000000000000000000000000000000000000000000000000000000000000000000000000000000000000000000000000000000000\n"
     ]
    }
   ],
   "source": [
    "# 7! = 7 * 6 * 5 * 4 * 3 * 2 * 1= 5040\n",
    "def functional(x):\n",
    "    if x == 0 or x == 1:\n",
    "        return 1\n",
    "    else:\n",
    "        return x * functional(x - 1)\n",
    "num = 1558\n",
    "print(\"The factorial of\", num, \"is\", functional(num))"
   ]
  },
  {
   "cell_type": "code",
   "execution_count": 24,
   "metadata": {},
   "outputs": [
    {
     "name": "stdout",
     "output_type": "stream",
     "text": [
      "15\n"
     ]
    }
   ],
   "source": [
    "# Calculate the sum of all the element in an array or list\n",
    "def sum_of_elements(arr):\n",
    "    if len(arr) == 1:\n",
    "        return arr[0]\n",
    "    else:\n",
    "        return arr[0] + sum_of_elements(arr[1:])\n",
    "arr = [1, 2, 3, 4, 5]\n",
    "print(sum_of_elements(arr))"
   ]
  },
  {
   "cell_type": "code",
   "execution_count": null,
   "metadata": {},
   "outputs": [
    {
     "name": "stdout",
     "output_type": "stream",
     "text": [
      "Fibonacci sequence:\n",
      "0\n",
      "1\n",
      "1\n",
      "2\n",
      "3\n",
      "5\n",
      "8\n",
      "13\n",
      "21\n",
      "34\n",
      "3.141592653589793\n",
      "5.0\n",
      "120\n"
     ]
    }
   ],
   "source": [
    "# Implement a resursive function to generate the nth number in the fibonacci sequence. The Fibonacci sequence strats with 0 and 1, and each subsequent number is the sum of the two preceding ones.\n",
    "def fibonacci(n):\n",
    "    if n <= 1:\n",
    "        return n\n",
    "    else:\n",
    "        return fibonacci(n - 1) + fibonacci(n - 2)\n",
    "n = 10\n",
    "\n",
    "for i in range(n):\n",
    "    print(fibonacci(i))\n",
    "\n",
    "# Python Modules\n",
    "import math\n",
    "print(math.pi)\n",
    "print(math.sqrt(25))\n",
    "print(math.factorial(5))"
   ]
  },
  {
   "cell_type": "code",
   "execution_count": null,
   "metadata": {},
   "outputs": [],
   "source": []
  }
 ],
 "metadata": {
  "kernelspec": {
   "display_name": "Python 3",
   "language": "python",
   "name": "python3"
  },
  "language_info": {
   "codemirror_mode": {
    "name": "ipython",
    "version": 3
   },
   "file_extension": ".py",
   "mimetype": "text/x-python",
   "name": "python",
   "nbconvert_exporter": "python",
   "pygments_lexer": "ipython3",
   "version": "3.13.0"
  }
 },
 "nbformat": 4,
 "nbformat_minor": 2
}
