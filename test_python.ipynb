{
 "cells": [
  {
   "cell_type": "code",
   "execution_count": null,
   "metadata": {},
   "outputs": [
    {
     "name": "stdout",
     "output_type": "stream",
     "text": [
      "Hello World\n"
     ]
    }
   ],
   "source": [
    "print(\"Hello World!\")"
   ]
  },
  {
   "cell_type": "code",
   "execution_count": null,
   "metadata": {},
   "outputs": [
    {
     "name": "stdout",
     "output_type": "stream",
     "text": [
      "10\n",
      "<class 'int'>\n",
      "10 is of type <class 'int'>\n"
     ]
    }
   ],
   "source": [
    "a = 10\n",
    "print(a)\n",
    "print(type (a))\n",
    "print(a, \"is of type\", type(a))"
   ]
  },
  {
   "cell_type": "code",
   "execution_count": null,
   "metadata": {},
   "outputs": [
    {
     "name": "stdout",
     "output_type": "stream",
     "text": [
      "The type of variable having value 10 is <class 'int'>\n"
     ]
    }
   ],
   "source": [
    "a = 10\n",
    "print(\"The type of variable having value\", a, \"is\", type(a))"
   ]
  },
  {
   "cell_type": "code",
   "execution_count": null,
   "metadata": {},
   "outputs": [
    {
     "name": "stdout",
     "output_type": "stream",
     "text": [
      "25000.0 is of type <class 'float'>\n"
     ]
    }
   ],
   "source": [
    "a = 2.5e4\n",
    "print(a, \"is of type\", type(a))"
   ]
  },
  {
   "cell_type": "code",
   "execution_count": null,
   "metadata": {},
   "outputs": [
    {
     "name": "stdout",
     "output_type": "stream",
     "text": [
      "5.0 is of type <class 'float'>\n"
     ]
    }
   ],
   "source": [
    "a = 5\n",
    "b = float(a)\n",
    "print(b, \"is of type\", type(b))"
   ]
  },
  {
   "cell_type": "code",
   "execution_count": null,
   "metadata": {},
   "outputs": [
    {
     "name": "stdout",
     "output_type": "stream",
     "text": [
      "7 is of type <class 'int'>\n"
     ]
    }
   ],
   "source": [
    "c = 7.0\n",
    "d = int(c)\n",
    "print(d, \"is of type\", type(d))"
   ]
  },
  {
   "cell_type": "code",
   "execution_count": null,
   "metadata": {},
   "outputs": [
    {
     "name": "stdout",
     "output_type": "stream",
     "text": [
      "[10, 5, 4, 5, 70] is of type <class 'list'>\n"
     ]
    }
   ],
   "source": [
    "my_list = [10, 5, 4, 5 ,70]\n",
    "print(my_list, \"is of type\", type(my_list))"
   ]
  },
  {
   "cell_type": "code",
   "execution_count": null,
   "metadata": {},
   "outputs": [
    {
     "name": "stdout",
     "output_type": "stream",
     "text": [
      "70\n"
     ]
    }
   ],
   "source": [
    "my_list = [10, 5, 4, 2 ,70]\n",
    "print(my_list[4])"
   ]
  },
  {
   "cell_type": "code",
   "execution_count": null,
   "metadata": {},
   "outputs": [
    {
     "name": "stdout",
     "output_type": "stream",
     "text": [
      "Dog\n",
      "Fly\n"
     ]
    }
   ],
   "source": [
    "my_list = [10, \"Dog\", 4, \"Cat\" ,70]\n",
    "print(my_list[1])\n",
    "\n",
    "my_list[1] = \"Fly\"\n",
    "print(my_list[1])"
   ]
  },
  {
   "cell_type": "code",
   "execution_count": null,
   "metadata": {},
   "outputs": [
    {
     "name": "stdout",
     "output_type": "stream",
     "text": [
      "5\n",
      "70\n"
     ]
    }
   ],
   "source": [
    "my_list = [10, \"Dog\", 4, \"Cat\" ,70]\n",
    "print(len(my_list))\n",
    "print(my_list[-1])\n"
   ]
  },
  {
   "cell_type": "code",
   "execution_count": null,
   "metadata": {},
   "outputs": [
    {
     "name": "stdout",
     "output_type": "stream",
     "text": [
      "['Dog', 4, 'Cat', 9] is of type <class 'list'>\n",
      "[10, 'Dog', 4, 'Cat'] is of type <class 'list'>\n"
     ]
    }
   ],
   "source": [
    "my_list = [10, \"Dog\", 4, \"Cat\" ,9]\n",
    "print(my_list[1:5], \"is of type\", type(my_list[1:5]))\n",
    "print(my_list[:4], \"is of type\", type(my_list[:4]))"
   ]
  },
  {
   "cell_type": "code",
   "execution_count": null,
   "metadata": {},
   "outputs": [
    {
     "name": "stdout",
     "output_type": "stream",
     "text": [
      "[10, 'Parrot', 5, 'Cat', 9]\n"
     ]
    }
   ],
   "source": [
    "my_list = [10, \"Dog\", 4, \"Cat\" ,9]\n",
    "my_list[1:3] = [\"Parrot\", 5]\n",
    "print(my_list)"
   ]
  },
  {
   "cell_type": "code",
   "execution_count": null,
   "metadata": {},
   "outputs": [
    {
     "name": "stdout",
     "output_type": "stream",
     "text": [
      "[10, 'Dog', 'Parrot', 4, 'Cat', 9] 6\n"
     ]
    }
   ],
   "source": [
    "my_list = [10, \"Dog\", 4, \"Cat\" ,9]\n",
    "my_list.insert(2, \"Parrot\")\n",
    "print(my_list, len(my_list))"
   ]
  },
  {
   "cell_type": "code",
   "execution_count": null,
   "metadata": {},
   "outputs": [
    {
     "name": "stdout",
     "output_type": "stream",
     "text": [
      "[10, 'Dog', 4, 'Cat', 9, 'Dilshan', 'Nimal', 'Kamal'] 8\n"
     ]
    }
   ],
   "source": [
    "my_list = [10, \"Dog\", 4, \"Cat\" ,9]\n",
    "my_list_1 = [\"Dilshan\", \"Nimal\", \"Kamal\"]\n",
    "my_list.extend(my_list_1)\n",
    "print(my_list, len(my_list))"
   ]
  },
  {
   "cell_type": "code",
   "execution_count": null,
   "metadata": {},
   "outputs": [
    {
     "name": "stdout",
     "output_type": "stream",
     "text": [
      "[10, 'Dog', 'Cat', 9] 4\n"
     ]
    }
   ],
   "source": [
    "my_list = [10, \"Dog\", 4, \"Cat\" ,9]\n",
    "del my_list[2]\n",
    "print(my_list, len(my_list))"
   ]
  },
  {
   "cell_type": "code",
   "execution_count": null,
   "metadata": {},
   "outputs": [
    {
     "name": "stdout",
     "output_type": "stream",
     "text": [
      "['Banana', 'Grapes', 'Pineapple', 'apple']\n"
     ]
    }
   ],
   "source": [
    "my_list = [\"Grapes\", \"apple\", \"Banana\", \"Pineapple\"]\n",
    "my_list.sort()\n",
    "print(my_list)"
   ]
  },
  {
   "cell_type": "code",
   "execution_count": null,
   "metadata": {},
   "outputs": [
    {
     "name": "stdout",
     "output_type": "stream",
     "text": [
      "Non-Authoritative Information\n"
     ]
    }
   ],
   "source": [
    "# Switch case statement\n",
    "response_code = 203\n",
    "\n",
    "match response_code:\n",
    "    case 200:\n",
    "        print(\"OK\")\n",
    "    case 201:\n",
    "        print(\"Created\")\n",
    "    case 202:\n",
    "        print(\"Accepted\")\n",
    "    case 203:\n",
    "        print(\"Non-Authoritative Information\")"
   ]
  },
  {
   "cell_type": "code",
   "execution_count": null,
   "metadata": {},
   "outputs": [
    {
     "name": "stdout",
     "output_type": "stream",
     "text": [
      "14\n"
     ]
    }
   ],
   "source": [
    "# Switch case statement \n",
    "# Maching by the length of an Iterable\n",
    "\n",
    "number = [4, 3, 7]\n",
    "\n",
    "match number:      \n",
    "    case [x, y]:     \n",
    "        print(x * y)            \n",
    "    case [x, y, z]: \n",
    "        print(x + y + z)\n",
    "    case _:\n",
    "        print(\"The list does not contain two or three numbers\")"
   ]
  },
  {
   "cell_type": "code",
   "execution_count": null,
   "metadata": {},
   "outputs": [
    {
     "name": "stdout",
     "output_type": "stream",
     "text": [
      "empty list\n"
     ]
    }
   ],
   "source": [
    "number = [4, 3, 7, 8]\n",
    "\n",
    "match number:\n",
    "    case []:\n",
    "        print(\"empty list\") \n",
    "    case [x]:\n",
    "        print(\"Has one element\")\n",
    "    case [x, y]:\n",
    "        print(\"Has two elements\")\n",
    "    case [*rest]:\n",
    "        print(\"More elements\")"
   ]
  },
  {
   "cell_type": "code",
   "execution_count": null,
   "metadata": {},
   "outputs": [
    {
     "name": "stdout",
     "output_type": "stream",
     "text": [
      "Apple\n",
      "Banana\n",
      "Pineapple\n",
      "Grapes\n"
     ]
    }
   ],
   "source": [
    "# For loop\n",
    "\n",
    "fruits = [\"Apple\", \"Banana\", \"Pineapple\", \"Grapes\"]\n",
    "\n",
    "for fruit in fruits:\n",
    "    print(fruit)"
   ]
  },
  {
   "cell_type": "code",
   "execution_count": 54,
   "metadata": {},
   "outputs": [
    {
     "name": "stdout",
     "output_type": "stream",
     "text": [
      "[16, 4, 36, 64, 25]\n"
     ]
    }
   ],
   "source": [
    "number = [4, 2, 6, 8, 5]\n",
    "square = []\n",
    "for num in number:\n",
    "    square.append(num * num)\n",
    "print(square)\n",
    "    "
   ]
  },
  {
   "cell_type": "code",
   "execution_count": null,
   "metadata": {},
   "outputs": [
    {
     "name": "stdout",
     "output_type": "stream",
     "text": [
      "[1, 4]\n"
     ]
    }
   ],
   "source": [
    "# Text input from the user it will print the square of the numbers from 1 to the user input number\n",
    "user_input = int(input(\"Enter a number: \"))\n",
    "square = []\n",
    "for num in range(1, user_input + 1):\n",
    "    square.append(num * num)\n",
    "print(square)"
   ]
  },
  {
   "cell_type": "code",
   "execution_count": null,
   "metadata": {},
   "outputs": [],
   "source": []
  },
  {
   "cell_type": "code",
   "execution_count": null,
   "metadata": {},
   "outputs": [
    {
     "name": "stdout",
     "output_type": "stream",
     "text": [
      "[16, 4, 36, 64, 25]\n"
     ]
    }
   ],
   "source": [
    "# List comprehension\n",
    "number = [4, 2, 6, 8, 5]\n",
    "result = [num * num for num in number]\n",
    "print(result)"
   ]
  },
  {
   "cell_type": "code",
   "execution_count": null,
   "metadata": {},
   "outputs": [
    {
     "name": "stdout",
     "output_type": "stream",
     "text": [
      "[8, 12, 5, 4, 0]\n"
     ]
    }
   ],
   "source": [
    "# print the square of the numbers from 1 to the user input number\n",
    "numbers = [8, 12, -1, 5, 4, 0, -3]\n",
    "positive = [num for num in numbers if num >= 0]\n",
    "print(positive)"
   ]
  },
  {
   "cell_type": "code",
   "execution_count": null,
   "metadata": {},
   "outputs": [
    {
     "name": "stdout",
     "output_type": "stream",
     "text": [
      "0 End of the loop\n",
      "1 End of the loop\n",
      "2 End of the loop\n",
      "3 End of the loop\n",
      "4 End of the loop\n"
     ]
    }
   ],
   "source": [
    "# While loop\n",
    "m = 5\n",
    "i = 0\n",
    "\n",
    "while i < m:\n",
    "    print(i, end=\" \")\n",
    "    i += 1\n",
    "    print(\"End of the loop\")"
   ]
  },
  {
   "cell_type": "code",
   "execution_count": null,
   "metadata": {},
   "outputs": [],
   "source": [
    "num = int(input(\"Enter a number: \"))\n",
    "square_num = []\n",
    "count = 1\n",
    "while num > 15:\n",
    "    square_num.append(count * count)\n",
    "    count += 1\n",
    "    num -= 1\n",
    "    print(square_num)\n",
    "    "
   ]
  },
  {
   "cell_type": "code",
   "execution_count": null,
   "metadata": {},
   "outputs": [
    {
     "name": "stdout",
     "output_type": "stream",
     "text": [
      "Square of the number is 4\n",
      "Square of the number is 9\n",
      "Square of the number is 16\n",
      "Square of the number is 0\n",
      "Square of the number is 0\n",
      "Square of the number is 4\n",
      "Square of the number is 441\n",
      "Square of the number is 9\n"
     ]
    }
   ],
   "source": [
    "while True:\n",
    "    num = int(input(\"Enter a number: \"))\n",
    "    if num < 0:\n",
    "        break\n",
    "    print(\"Square of the number is\", num * num)"
   ]
  },
  {
   "cell_type": "code",
   "execution_count": null,
   "metadata": {},
   "outputs": [
    {
     "name": "stdout",
     "output_type": "stream",
     "text": [
      "Name : Dilshan\n",
      "Age : 25\n"
     ]
    }
   ],
   "source": [
    "# Function and functinal programming\n",
    "personal = {\n",
    "    \"Name\": \"Dilshan\",\n",
    "    \"Age\": 25\n",
    "}\n",
    "\n",
    "for key in personal:\n",
    "    print(key, \":\", personal[key])\n"
   ]
  },
  {
   "cell_type": "code",
   "execution_count": null,
   "metadata": {},
   "outputs": [
    {
     "data": {
      "text/plain": [
       "30"
      ]
     },
     "execution_count": 17,
     "metadata": {},
     "output_type": "execute_result"
    }
   ],
   "source": [
    "# function \n",
    "def calculate_square(width, height):\n",
    "    return width * height\n",
    "calculate_square(5, 6)"
   ]
  },
  {
   "cell_type": "code",
   "execution_count": null,
   "metadata": {},
   "outputs": [
    {
     "name": "stdout",
     "output_type": "stream",
     "text": [
      "22\n"
     ]
    }
   ],
   "source": [
    "def calculate_square(width, height):\n",
    "    return (width + height) * 2\n",
    "calculate_square(5, 6)"
   ]
  },
  {
   "cell_type": "code",
   "execution_count": null,
   "metadata": {},
   "outputs": [
    {
     "name": "stdout",
     "output_type": "stream",
     "text": [
      "78.5\n"
     ]
    }
   ],
   "source": [
    "def calculate_circle_area(radius):\n",
    "    return 3.14 * radius * radius\n",
    "calculate_circle_area(5)"
   ]
  },
  {
   "cell_type": "code",
   "execution_count": null,
   "metadata": {},
   "outputs": [
    {
     "data": {
      "text/plain": [
       "10"
      ]
     },
     "execution_count": 31,
     "metadata": {},
     "output_type": "execute_result"
    }
   ],
   "source": [
    "# Default arguments\n",
    "def add_arguments(a, b=5):\n",
    "    return a + b\n",
    "# add_arguments(5, 7) # 12 default value is not used\n",
    "add_arguments(5) # 10 default value is used "
   ]
  },
  {
   "cell_type": "code",
   "execution_count": 1,
   "metadata": {},
   "outputs": [
    {
     "name": "stdout",
     "output_type": "stream",
     "text": [
      "20\n"
     ]
    }
   ],
   "source": [
    "# Positional arguments\n",
    "def add_arguments(a, b, c):\n",
    "    return a + b + c\n",
    "print(add_arguments(5, 7, 8))"
   ]
  },
  {
   "cell_type": "code",
   "execution_count": 2,
   "metadata": {},
   "outputs": [
    {
     "name": "stdout",
     "output_type": "stream",
     "text": [
      "20\n"
     ]
    }
   ],
   "source": [
    "# Keyword arguments\n",
    "def add_arguments(a, b, c):\n",
    "    return a + b + c\n",
    "print(add_arguments(c=8, a=5, b=7))"
   ]
  },
  {
   "cell_type": "code",
   "execution_count": null,
   "metadata": {},
   "outputs": [
    {
     "name": "stdout",
     "output_type": "stream",
     "text": [
      "540.0\n"
     ]
    }
   ],
   "source": [
    "def calculate_cost(price, qntity, tax_rate, discount):\n",
    "    return price * qntity * tax_rate - discount\n",
    "print(calculate_cost(price=100, qntity=5, tax_rate=1.1, discount=10))"
   ]
  },
  {
   "cell_type": "code",
   "execution_count": null,
   "metadata": {},
   "outputs": [
    {
     "name": "stdout",
     "output_type": "stream",
     "text": [
      "I love computer programming,\n",
      "I have more experiance about it,\n",
      "I live in Galle.\n"
     ]
    }
   ],
   "source": [
    "# Python String\n",
    "my_str = '''I love computer programming,\n",
    "        I have more experiance about it,\n",
    "        I live in Galle.'''\n",
    "print(my_str)"
   ]
  },
  {
   "cell_type": "code",
   "execution_count": 2,
   "metadata": {},
   "outputs": [
    {
     "name": "stdout",
     "output_type": "stream",
     "text": [
      "['H', 'e', 'l', 'l', 'o', ' ', 'W', 'o', 'r', 'l', 'd']\n",
      "11\n",
      "o\n",
      "llo Wo\n",
      "HELLO WORLD\n",
      "hello world\n"
     ]
    }
   ],
   "source": [
    "my_str = \"Hello World\"\n",
    "my_list = list(my_str)\n",
    "print(my_list)\n",
    "print(len(my_str))\n",
    "print(my_str[4])\n",
    "print(my_str[2:8])\n",
    "print(my_str.upper())\n",
    "print(my_str.lower())"
   ]
  },
  {
   "cell_type": "code",
   "execution_count": 38,
   "metadata": {},
   "outputs": [
    {
     "name": "stdout",
     "output_type": "stream",
     "text": [
      "  Hello world     \n",
      "  Hello world     \n"
     ]
    }
   ],
   "source": [
    "my_str = \"  Hello world     \"\n",
    "print(my_str)\n",
    "my_str.strip()\n",
    "print(my_str)"
   ]
  },
  {
   "cell_type": "code",
   "execution_count": 1,
   "metadata": {},
   "outputs": [],
   "source": [
    "# Python functional declaration\n",
    "def greet(name):\n",
    "    return f\"Hello, {name}!\"\n"
   ]
  },
  {
   "cell_type": "code",
   "execution_count": null,
   "metadata": {},
   "outputs": [],
   "source": [
    "# Arbitrary Argument\n",
    "def arbitrary_positinal_arguments(*args):\n",
    "    print(args, type(args))\n",
    "arbitrary_positinal_arguments(2, 4, 6, 8)\n"
   ]
  },
  {
   "cell_type": "code",
   "execution_count": null,
   "metadata": {},
   "outputs": [
    {
     "name": "stdout",
     "output_type": "stream",
     "text": [
      "name : Malith\n",
      "age : 21\n",
      "country : Sri Lanka\n"
     ]
    }
   ],
   "source": [
    "# Arbitrary Keyword Argument (**kwargs)\n",
    "def arbitrary_keyword_args(**kwargs):\n",
    "    for ket, value in kwargs.items():\n",
    "        print(ket, \":\", value)\n",
    "arbitrary_keyword_args(name=\"Malith\", age=21, country=\"Sri Lanka\")"
   ]
  },
  {
   "cell_type": "code",
   "execution_count": null,
   "metadata": {},
   "outputs": [
    {
     "name": "stdout",
     "output_type": "stream",
     "text": [
      "Student Name: Malith\n",
      "Max of grades: 90\n",
      "Lowest grade: 70\n",
      "Average grade: 30.0\n",
      "Student Name: Kamal\n",
      "No grades available\n"
     ]
    }
   ],
   "source": [
    "def summaries_grades(student_name, **grades):\n",
    "    print(\"Student Name:\", student_name)\n",
    "    \n",
    "    if grades:\n",
    "        height = max(grades.values())\n",
    "        lowest = min(grades.values())\n",
    "        average = height / len(grades)\n",
    "\n",
    "        print(\"Max of grades:\", height)\n",
    "        print(\"Lowest grade:\", lowest)\n",
    "        print(\"Average grade:\", average)\n",
    "    else:\n",
    "        print(\"No grades available\")\n",
    "\n",
    "summaries_grades(\"Malith\", Math=90, Science=85, English=70)\n",
    "summaries_grades(\"Malith\")"
   ]
  },
  {
   "cell_type": "code",
   "execution_count": 22,
   "metadata": {},
   "outputs": [
    {
     "name": "stdout",
     "output_type": "stream",
     "text": [
      "Employee Name: Malith Shehan\n",
      "age: 21\n",
      "department: Senior Software Enginear\n",
      "location: New York\n",
      "{'name': 'Malith Shehan', 'age': 21, 'department': 'Senior Software Enginear', 'location': 'New York'}\n"
     ]
    }
   ],
   "source": [
    "def employee_info(name, **kwargs):\n",
    "    print(\"Employee Name:\", name)\n",
    "    for key, value in kwargs.items():\n",
    "        print(f\"{key}: {value}\")\n",
    "    \n",
    "    employee_details = {\"name\": name}\n",
    "    employee_details.update(kwargs)\n",
    "    return employee_details\n",
    "\n",
    "# Example usage\n",
    "info = employee_info(\"Malith Shehan\", age=21, department=\"Senior Software Enginear\", location=\"New York\")\n",
    "print(info)"
   ]
  },
  {
   "cell_type": "code",
   "execution_count": 27,
   "metadata": {},
   "outputs": [
    {
     "name": "stdout",
     "output_type": "stream",
     "text": [
      "7\n",
      "False\n"
     ]
    }
   ],
   "source": [
    "# Build in functions\n",
    "print(abs(-7))\n",
    "print(all([True, False, True]))"
   ]
  },
  {
   "cell_type": "code",
   "execution_count": 29,
   "metadata": {},
   "outputs": [
    {
     "name": "stdout",
     "output_type": "stream",
     "text": [
      "<map object at 0x00000147948CEAA0> [4, 16, 36, 64, 100]\n"
     ]
    }
   ],
   "source": [
    "# Built-in functions map()\n",
    "def square(num):\n",
    "    return num * num\n",
    "numbers = [2, 4, 6, 8, 10]\n",
    "result = map(square, numbers)\n",
    "print(result, list(result))"
   ]
  },
  {
   "cell_type": "code",
   "execution_count": null,
   "metadata": {},
   "outputs": [
    {
     "name": "stdout",
     "output_type": "stream",
     "text": [
      "[68.0, 86.0, 77.0, 104.0, 59.0]\n"
     ]
    }
   ],
   "source": [
    "# Fahrenheit = celsius * 9/5 + 32\n",
    "temperatures = [20, 30, 25, 40, 15]\n",
    "result = map(lambda x: (9/5) * x + 32, temperatures)\n",
    "print(list(result))"
   ]
  },
  {
   "cell_type": "code",
   "execution_count": 40,
   "metadata": {},
   "outputs": [
    {
     "name": "stdout",
     "output_type": "stream",
     "text": [
      "[2, 6, 8]\n"
     ]
    }
   ],
   "source": [
    "# Built in function filter()\n",
    "numbers = [2, 5, 6, 7, 8, 11]\n",
    "result = filter(lambda x: x % 2 == 0, numbers)  # Even numbers\n",
    "print(list(result))"
   ]
  },
  {
   "cell_type": "code",
   "execution_count": 42,
   "metadata": {},
   "outputs": [
    {
     "name": "stdout",
     "output_type": "stream",
     "text": [
      "7\n"
     ]
    }
   ],
   "source": [
    "# Python Lambda function\n",
    "square = lambda x,y: x + y\n",
    "print(square(3, 4))"
   ]
  },
  {
   "cell_type": "code",
   "execution_count": null,
   "metadata": {},
   "outputs": [
    {
     "name": "stdout",
     "output_type": "stream",
     "text": [
      "16\n"
     ]
    }
   ],
   "source": [
    "# Write a lamda function to return the power of two of a given number\n",
    "power = lambda x: x ** 2\n",
    "print(power(4))"
   ]
  },
  {
   "cell_type": "code",
   "execution_count": 46,
   "metadata": {},
   "outputs": [
    {
     "name": "stdout",
     "output_type": "stream",
     "text": [
      "[('Malith', 25), ('Tharin', 20)]\n"
     ]
    }
   ],
   "source": [
    "# Write a python programme that\n",
    "# 1. take list of tuples where each tuple contains a name(String) and age (integer).\n",
    "# 2. use a lambda funtion to filter out the tuples where the age is less than 18.\n",
    "# 3. print the filtered list.\n",
    "people = [(\"Malith\", 25), (\"Malshan\", 15), (\"Tharin\", 20)]\n",
    "result = filter(lambda x: x[1] >= 18, people)\n",
    "print(list(result))"
   ]
  },
  {
   "cell_type": "code",
   "execution_count": 51,
   "metadata": {},
   "outputs": [
    {
     "name": "stdout",
     "output_type": "stream",
     "text": [
      "5\n"
     ]
    }
   ],
   "source": [
    "# Let's use that funtion definition to make a function that always doubles the number you send in\n",
    "result = lambda x,y : max(x, y)\n",
    "print(result(4, 5))"
   ]
  },
  {
   "cell_type": "code",
   "execution_count": 60,
   "metadata": {},
   "outputs": [
    {
     "name": "stdout",
     "output_type": "stream",
     "text": [
      "5040\n"
     ]
    }
   ],
   "source": [
    "# Recursive Functions \n",
    "# 7! = 7 * 6 * 5 * 4 * 3 * 2 * 1= 5040\n",
    "def factorial(n):\n",
    "    if n == 0:\n",
    "        return 1\n",
    "    for i in range(1, n):\n",
    "        n *= i\n",
    "    return n\n",
    "print(factorial(7))"
   ]
  },
  {
   "cell_type": "code",
   "execution_count": null,
   "metadata": {},
   "outputs": [
    {
     "name": "stdout",
     "output_type": "stream",
     "text": [
      "The factorial of 7 is 5040\n"
     ]
    }
   ],
   "source": [
    "# 7! = 7 * 6 * 5 * 4 * 3 * 2 * 1= 5040\n",
    "def functional(x):\n",
    "    if x == 0 or x == 1:\n",
    "        return 1\n",
    "    else:\n",
    "        return x * functional(x - 1)\n",
    "num = 7\n",
    "print(\"The factorial of\", num, \"is\", functional(num))"
   ]
  }
 ],
 "metadata": {
  "kernelspec": {
   "display_name": "Python 3",
   "language": "python",
   "name": "python3"
  },
  "language_info": {
   "codemirror_mode": {
    "name": "ipython",
    "version": 3
   },
   "file_extension": ".py",
   "mimetype": "text/x-python",
   "name": "python",
   "nbconvert_exporter": "python",
   "pygments_lexer": "ipython3",
   "version": "3.13.0"
  }
 },
 "nbformat": 4,
 "nbformat_minor": 2
}
