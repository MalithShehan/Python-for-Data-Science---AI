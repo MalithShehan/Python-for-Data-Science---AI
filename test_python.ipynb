{
 "cells": [
  {
   "cell_type": "code",
   "execution_count": null,
   "metadata": {},
   "outputs": [
    {
     "name": "stdout",
     "output_type": "stream",
     "text": [
      "Hello World\n"
     ]
    }
   ],
   "source": [
    "print(\"Hello World!\")"
   ]
  },
  {
   "cell_type": "code",
   "execution_count": null,
   "metadata": {},
   "outputs": [
    {
     "name": "stdout",
     "output_type": "stream",
     "text": [
      "10\n",
      "<class 'int'>\n",
      "10 is of type <class 'int'>\n"
     ]
    }
   ],
   "source": [
    "a = 10\n",
    "print(a)\n",
    "print(type (a))\n",
    "print(a, \"is of type\", type(a))"
   ]
  },
  {
   "cell_type": "code",
   "execution_count": null,
   "metadata": {},
   "outputs": [
    {
     "name": "stdout",
     "output_type": "stream",
     "text": [
      "The type of variable having value 10 is <class 'int'>\n"
     ]
    }
   ],
   "source": [
    "a = 10\n",
    "print(\"The type of variable having value\", a, \"is\", type(a))"
   ]
  },
  {
   "cell_type": "code",
   "execution_count": null,
   "metadata": {},
   "outputs": [
    {
     "name": "stdout",
     "output_type": "stream",
     "text": [
      "25000.0 is of type <class 'float'>\n"
     ]
    }
   ],
   "source": [
    "a = 2.5e4\n",
    "print(a, \"is of type\", type(a))"
   ]
  },
  {
   "cell_type": "code",
   "execution_count": null,
   "metadata": {},
   "outputs": [
    {
     "name": "stdout",
     "output_type": "stream",
     "text": [
      "5.0 is of type <class 'float'>\n"
     ]
    }
   ],
   "source": [
    "a = 5\n",
    "b = float(a)\n",
    "print(b, \"is of type\", type(b))"
   ]
  },
  {
   "cell_type": "code",
   "execution_count": null,
   "metadata": {},
   "outputs": [
    {
     "name": "stdout",
     "output_type": "stream",
     "text": [
      "7 is of type <class 'int'>\n"
     ]
    }
   ],
   "source": [
    "c = 7.0\n",
    "d = int(c)\n",
    "print(d, \"is of type\", type(d))"
   ]
  },
  {
   "cell_type": "code",
   "execution_count": null,
   "metadata": {},
   "outputs": [
    {
     "name": "stdout",
     "output_type": "stream",
     "text": [
      "[10, 5, 4, 5, 70] is of type <class 'list'>\n"
     ]
    }
   ],
   "source": [
    "my_list = [10, 5, 4, 5 ,70]\n",
    "print(my_list, \"is of type\", type(my_list))"
   ]
  },
  {
   "cell_type": "code",
   "execution_count": null,
   "metadata": {},
   "outputs": [
    {
     "name": "stdout",
     "output_type": "stream",
     "text": [
      "70\n"
     ]
    }
   ],
   "source": [
    "my_list = [10, 5, 4, 2 ,70]\n",
    "print(my_list[4])"
   ]
  },
  {
   "cell_type": "code",
   "execution_count": null,
   "metadata": {},
   "outputs": [
    {
     "name": "stdout",
     "output_type": "stream",
     "text": [
      "Dog\n",
      "Fly\n"
     ]
    }
   ],
   "source": [
    "my_list = [10, \"Dog\", 4, \"Cat\" ,70]\n",
    "print(my_list[1])\n",
    "\n",
    "my_list[1] = \"Fly\"\n",
    "print(my_list[1])"
   ]
  },
  {
   "cell_type": "code",
   "execution_count": null,
   "metadata": {},
   "outputs": [
    {
     "name": "stdout",
     "output_type": "stream",
     "text": [
      "5\n",
      "70\n"
     ]
    }
   ],
   "source": [
    "my_list = [10, \"Dog\", 4, \"Cat\" ,70]\n",
    "print(len(my_list))\n",
    "print(my_list[-1])\n"
   ]
  },
  {
   "cell_type": "code",
   "execution_count": null,
   "metadata": {},
   "outputs": [
    {
     "name": "stdout",
     "output_type": "stream",
     "text": [
      "['Dog', 4, 'Cat', 9] is of type <class 'list'>\n",
      "[10, 'Dog', 4, 'Cat'] is of type <class 'list'>\n"
     ]
    }
   ],
   "source": [
    "my_list = [10, \"Dog\", 4, \"Cat\" ,9]\n",
    "print(my_list[1:5], \"is of type\", type(my_list[1:5]))\n",
    "print(my_list[:4], \"is of type\", type(my_list[:4]))"
   ]
  },
  {
   "cell_type": "code",
   "execution_count": null,
   "metadata": {},
   "outputs": [
    {
     "name": "stdout",
     "output_type": "stream",
     "text": [
      "[10, 'Parrot', 5, 'Cat', 9]\n"
     ]
    }
   ],
   "source": [
    "my_list = [10, \"Dog\", 4, \"Cat\" ,9]\n",
    "my_list[1:3] = [\"Parrot\", 5]\n",
    "print(my_list)"
   ]
  },
  {
   "cell_type": "code",
   "execution_count": null,
   "metadata": {},
   "outputs": [
    {
     "name": "stdout",
     "output_type": "stream",
     "text": [
      "[10, 'Dog', 'Parrot', 4, 'Cat', 9] 6\n"
     ]
    }
   ],
   "source": [
    "my_list = [10, \"Dog\", 4, \"Cat\" ,9]\n",
    "my_list.insert(2, \"Parrot\")\n",
    "print(my_list, len(my_list))"
   ]
  },
  {
   "cell_type": "code",
   "execution_count": null,
   "metadata": {},
   "outputs": [
    {
     "name": "stdout",
     "output_type": "stream",
     "text": [
      "[10, 'Dog', 4, 'Cat', 9, 'Dilshan', 'Nimal', 'Kamal'] 8\n"
     ]
    }
   ],
   "source": [
    "my_list = [10, \"Dog\", 4, \"Cat\" ,9]\n",
    "my_list_1 = [\"Dilshan\", \"Nimal\", \"Kamal\"]\n",
    "my_list.extend(my_list_1)\n",
    "print(my_list, len(my_list))"
   ]
  },
  {
   "cell_type": "code",
   "execution_count": null,
   "metadata": {},
   "outputs": [
    {
     "name": "stdout",
     "output_type": "stream",
     "text": [
      "[10, 'Dog', 'Cat', 9] 4\n"
     ]
    }
   ],
   "source": [
    "my_list = [10, \"Dog\", 4, \"Cat\" ,9]\n",
    "del my_list[2]\n",
    "print(my_list, len(my_list))"
   ]
  },
  {
   "cell_type": "code",
   "execution_count": null,
   "metadata": {},
   "outputs": [
    {
     "name": "stdout",
     "output_type": "stream",
     "text": [
      "['Banana', 'Grapes', 'Pineapple', 'apple']\n"
     ]
    }
   ],
   "source": [
    "my_list = [\"Grapes\", \"apple\", \"Banana\", \"Pineapple\"]\n",
    "my_list.sort()\n",
    "print(my_list)"
   ]
  },
  {
   "cell_type": "code",
   "execution_count": null,
   "metadata": {},
   "outputs": [
    {
     "name": "stdout",
     "output_type": "stream",
     "text": [
      "Non-Authoritative Information\n"
     ]
    }
   ],
   "source": [
    "# Switch case statement\n",
    "response_code = 203\n",
    "\n",
    "match response_code:\n",
    "    case 200:\n",
    "        print(\"OK\")\n",
    "    case 201:\n",
    "        print(\"Created\")\n",
    "    case 202:\n",
    "        print(\"Accepted\")\n",
    "    case 203:\n",
    "        print(\"Non-Authoritative Information\")"
   ]
  },
  {
   "cell_type": "code",
   "execution_count": null,
   "metadata": {},
   "outputs": [
    {
     "name": "stdout",
     "output_type": "stream",
     "text": [
      "14\n"
     ]
    }
   ],
   "source": [
    "# Switch case statement \n",
    "# Maching by the length of an Iterable\n",
    "\n",
    "number = [4, 3, 7]\n",
    "\n",
    "match number:      \n",
    "    case [x, y]:     \n",
    "        print(x * y)            \n",
    "    case [x, y, z]: \n",
    "        print(x + y + z)\n",
    "    case _:\n",
    "        print(\"The list does not contain two or three numbers\")"
   ]
  },
  {
   "cell_type": "code",
   "execution_count": null,
   "metadata": {},
   "outputs": [
    {
     "name": "stdout",
     "output_type": "stream",
     "text": [
      "empty list\n"
     ]
    }
   ],
   "source": [
    "number = [4, 3, 7, 8]\n",
    "\n",
    "match number:\n",
    "    case []:\n",
    "        print(\"empty list\") \n",
    "    case [x]:\n",
    "        print(\"Has one element\")\n",
    "    case [x, y]:\n",
    "        print(\"Has two elements\")\n",
    "    case [*rest]:\n",
    "        print(\"More elements\")"
   ]
  },
  {
   "cell_type": "code",
   "execution_count": null,
   "metadata": {},
   "outputs": [
    {
     "name": "stdout",
     "output_type": "stream",
     "text": [
      "Apple\n",
      "Banana\n",
      "Pineapple\n",
      "Grapes\n"
     ]
    }
   ],
   "source": [
    "# For loop\n",
    "\n",
    "fruits = [\"Apple\", \"Banana\", \"Pineapple\", \"Grapes\"]\n",
    "\n",
    "for fruit in fruits:\n",
    "    print(fruit)"
   ]
  },
  {
   "cell_type": "code",
   "execution_count": 54,
   "metadata": {},
   "outputs": [
    {
     "name": "stdout",
     "output_type": "stream",
     "text": [
      "[16, 4, 36, 64, 25]\n"
     ]
    }
   ],
   "source": [
    "number = [4, 2, 6, 8, 5]\n",
    "square = []\n",
    "for num in number:\n",
    "    square.append(num * num)\n",
    "print(square)\n",
    "    "
   ]
  },
  {
   "cell_type": "code",
   "execution_count": null,
   "metadata": {},
   "outputs": [
    {
     "name": "stdout",
     "output_type": "stream",
     "text": [
      "[1, 4]\n"
     ]
    }
   ],
   "source": [
    "# Text input from the user it will print the square of the numbers from 1 to the user input number\n",
    "user_input = int(input(\"Enter a number: \"))\n",
    "square = []\n",
    "for num in range(1, user_input + 1):\n",
    "    square.append(num * num)\n",
    "print(square)"
   ]
  },
  {
   "cell_type": "code",
   "execution_count": null,
   "metadata": {},
   "outputs": [],
   "source": []
  },
  {
   "cell_type": "code",
   "execution_count": null,
   "metadata": {},
   "outputs": [
    {
     "name": "stdout",
     "output_type": "stream",
     "text": [
      "[16, 4, 36, 64, 25]\n"
     ]
    }
   ],
   "source": [
    "# List comprehension\n",
    "number = [4, 2, 6, 8, 5]\n",
    "result = [num * num for num in number]\n",
    "print(result)"
   ]
  },
  {
   "cell_type": "code",
   "execution_count": null,
   "metadata": {},
   "outputs": [
    {
     "name": "stdout",
     "output_type": "stream",
     "text": [
      "[8, 12, 5, 4, 0]\n"
     ]
    }
   ],
   "source": [
    "# print the square of the numbers from 1 to the user input number\n",
    "numbers = [8, 12, -1, 5, 4, 0, -3]\n",
    "positive = [num for num in numbers if num >= 0]\n",
    "print(positive)"
   ]
  },
  {
   "cell_type": "code",
   "execution_count": null,
   "metadata": {},
   "outputs": [
    {
     "name": "stdout",
     "output_type": "stream",
     "text": [
      "0 End of the loop\n",
      "1 End of the loop\n",
      "2 End of the loop\n",
      "3 End of the loop\n",
      "4 End of the loop\n"
     ]
    }
   ],
   "source": [
    "# While loop\n",
    "m = 5\n",
    "i = 0\n",
    "\n",
    "while i < m:\n",
    "    print(i, end=\" \")\n",
    "    i += 1\n",
    "    print(\"End of the loop\")"
   ]
  },
  {
   "cell_type": "code",
   "execution_count": null,
   "metadata": {},
   "outputs": [],
   "source": [
    "num = int(input(\"Enter a number: \"))\n",
    "square_num = []\n",
    "count = 1\n",
    "while num > 15:\n",
    "    square_num.append(count * count)\n",
    "    count += 1\n",
    "    num -= 1\n",
    "    print(square_num)\n",
    "    "
   ]
  },
  {
   "cell_type": "code",
   "execution_count": null,
   "metadata": {},
   "outputs": [
    {
     "name": "stdout",
     "output_type": "stream",
     "text": [
      "Square of the number is 4\n",
      "Square of the number is 9\n",
      "Square of the number is 16\n",
      "Square of the number is 0\n",
      "Square of the number is 0\n",
      "Square of the number is 4\n",
      "Square of the number is 441\n",
      "Square of the number is 9\n"
     ]
    }
   ],
   "source": [
    "while True:\n",
    "    num = int(input(\"Enter a number: \"))\n",
    "    if num < 0:\n",
    "        break\n",
    "    print(\"Square of the number is\", num * num)"
   ]
  },
  {
   "cell_type": "code",
   "execution_count": null,
   "metadata": {},
   "outputs": [
    {
     "name": "stdout",
     "output_type": "stream",
     "text": [
      "Name : Dilshan\n",
      "Age : 25\n"
     ]
    }
   ],
   "source": [
    "# Function and functinal programming\n",
    "personal = {\n",
    "    \"Name\": \"Dilshan\",\n",
    "    \"Age\": 25\n",
    "}\n",
    "\n",
    "for key in personal:\n",
    "    print(key, \":\", personal[key])\n"
   ]
  },
  {
   "cell_type": "code",
   "execution_count": null,
   "metadata": {},
   "outputs": [
    {
     "data": {
      "text/plain": [
       "30"
      ]
     },
     "execution_count": 17,
     "metadata": {},
     "output_type": "execute_result"
    }
   ],
   "source": [
    "# function \n",
    "def calculate_square(width, height):\n",
    "    return width * height\n",
    "calculate_square(5, 6)"
   ]
  },
  {
   "cell_type": "code",
   "execution_count": null,
   "metadata": {},
   "outputs": [
    {
     "name": "stdout",
     "output_type": "stream",
     "text": [
      "22\n"
     ]
    }
   ],
   "source": [
    "def calculate_square(width, height):\n",
    "    return (width + height) * 2\n",
    "calculate_square(5, 6)"
   ]
  },
  {
   "cell_type": "code",
   "execution_count": null,
   "metadata": {},
   "outputs": [
    {
     "name": "stdout",
     "output_type": "stream",
     "text": [
      "78.5\n"
     ]
    }
   ],
   "source": [
    "def calculate_circle_area(radius):\n",
    "    return 3.14 * radius * radius\n",
    "calculate_circle_area(5)"
   ]
  },
  {
   "cell_type": "code",
   "execution_count": null,
   "metadata": {},
   "outputs": [
    {
     "data": {
      "text/plain": [
       "10"
      ]
     },
     "execution_count": 31,
     "metadata": {},
     "output_type": "execute_result"
    }
   ],
   "source": [
    "# Default arguments\n",
    "def add_arguments(a, b=5):\n",
    "    return a + b\n",
    "# add_arguments(5, 7) # 12 default value is not used\n",
    "add_arguments(5) # 10 default value is used "
   ]
  },
  {
   "cell_type": "code",
   "execution_count": 1,
   "metadata": {},
   "outputs": [
    {
     "name": "stdout",
     "output_type": "stream",
     "text": [
      "20\n"
     ]
    }
   ],
   "source": [
    "# Positional arguments\n",
    "def add_arguments(a, b, c):\n",
    "    return a + b + c\n",
    "print(add_arguments(5, 7, 8))"
   ]
  },
  {
   "cell_type": "code",
   "execution_count": 2,
   "metadata": {},
   "outputs": [
    {
     "name": "stdout",
     "output_type": "stream",
     "text": [
      "20\n"
     ]
    }
   ],
   "source": [
    "# Keyword arguments\n",
    "def add_arguments(a, b, c):\n",
    "    return a + b + c\n",
    "print(add_arguments(c=8, a=5, b=7))"
   ]
  }
 ],
 "metadata": {
  "kernelspec": {
   "display_name": "Python 3",
   "language": "python",
   "name": "python3"
  },
  "language_info": {
   "codemirror_mode": {
    "name": "ipython",
    "version": 3
   },
   "file_extension": ".py",
   "mimetype": "text/x-python",
   "name": "python",
   "nbconvert_exporter": "python",
   "pygments_lexer": "ipython3",
   "version": "3.13.0"
  }
 },
 "nbformat": 4,
 "nbformat_minor": 2
}
